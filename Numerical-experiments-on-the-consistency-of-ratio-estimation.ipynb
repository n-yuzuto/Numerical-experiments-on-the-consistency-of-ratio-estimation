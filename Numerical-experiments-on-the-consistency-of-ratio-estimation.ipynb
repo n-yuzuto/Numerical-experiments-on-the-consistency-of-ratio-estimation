{
 "cells": [
  {
   "cell_type": "code",
   "execution_count": 1,
   "metadata": {},
   "outputs": [
    {
     "data": {
      "image/png": "[encoded data removed]",
      "text/plain": [
       "<Figure size 432x288 with 1 Axes>"
      ]
     },
     "metadata": {
      "needs_background": "light"
     },
     "output_type": "display_data"
    }
   ],
   "source": [
    "%matplotlib inline\n",
    "import numpy as np\n",
    "import matplotlib.pyplot as plt\n",
    "\n",
    "n_list = [10,100,1000,10000]\n",
    "theta = 0.3\n",
    "avg = np.zeros((len(n_list),10000))\n",
    "for k in range(len(n_list)) :\n",
    "    n = n_list[k]\n",
    "    for  i in range(avg.shape[1]) :\n",
    "        uniform = np.random.rand(n)\n",
    "        samples = uniform < theta\n",
    "        avg[k, i] = np.mean(samples)\n",
    "        \n",
    "plt.hist(avg[3],label=\"n=10000\",  bins=50, range=(0.,1.), density = False, alpha=0.3)\n",
    "plt.hist(avg[2],label=\"n=1000\", bins=50, range=(0.,1.), density = False, alpha=0.3)\n",
    "plt.hist(avg[1],label=\"n=100\", bins=50, range=(0.,1.), density = False, alpha=0.3)\n",
    "plt.hist(avg[0],label=\"n=10\",  bins=50, range=(0.,1.), density = False, alpha=0.3)\n",
    "plt.ylabel(\"frequency\")\n",
    "plt.xlabel(\"ratio\")\n",
    "plt.legend()\n",
    "plt.savefig(\"2-2-ratio.png\")"
   ]
  },
  {
   "cell_type": "code",
   "execution_count": null,
   "metadata": {},
   "outputs": [],
   "source": []
  }
 ],
 "metadata": {
  "kernelspec": {
   "display_name": "Python 3",
   "language": "python",
   "name": "python3"
  },
  "language_info": {
   "codemirror_mode": {
    "name": "ipython",
    "version": 3
   },
   "file_extension": ".py",
   "mimetype": "text/x-python",
   "name": "python",
   "nbconvert_exporter": "python",
   "pygments_lexer": "ipython3",
   "version": "3.7.3"
  }
 },
 "nbformat": 4,
 "nbformat_minor": 2
}
